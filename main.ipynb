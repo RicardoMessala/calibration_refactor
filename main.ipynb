{
 "cells": [
  {
   "cell_type": "code",
   "execution_count": 6,
   "id": "ddbaf10e",
   "metadata": {},
   "outputs": [],
   "source": [
    "import lightgbm as lgb\n",
    "import numpy as np\n",
    "import pandas as pd\n",
    "from database.connection import sql_connection\n",
    "from database.src import dataset_config\n",
    "from modules.calibration_algorithm.gbdt import GBDTTrainning\n",
    "from modules.hyperparameters_opt.bayesian_opt import BayesianOptimization\n",
    "from sklearn.model_selection import train_test_split\n",
    "from sklearn.datasets import fetch_california_housing\n",
    "from sklearn.metrics import mean_squared_error\n",
    "from skopt.space import Real, Integer"
   ]
  },
  {
   "cell_type": "code",
   "execution_count": 7,
   "id": "fd2b4f6c",
   "metadata": {},
   "outputs": [],
   "source": [
    "qrings = sql_connection.set_standard_rings_data()"
   ]
  },
  {
   "cell_type": "code",
   "execution_count": 8,
   "id": "8be52f4f",
   "metadata": {},
   "outputs": [
    {
     "name": "stdout",
     "output_type": "stream",
     "text": [
      "group_conditions:  [{'cluster_eta': [0.6, 0.8]}, {'cluster_et': [20000, 30000]}]\n",
      "condition_dict:  {'cluster_eta': [0.6, 0.8]}\n",
      "col_name:  cluster_eta\n",
      "intervals:  [0.6, 0.8]\n",
      "intervals[0]:  0.6 intervals[1]:  0.8\n",
      "TESTANDO\n",
      "NEW COLUMNS\n",
      "INFO: Aplicando comparação com módulo para a coluna 'cluster_eta'.\n",
      "condition_dict:  {'cluster_et': [20000, 30000]}\n",
      "col_name:  cluster_et\n",
      "intervals:  [20000, 30000]\n",
      "intervals[0]:  20000 intervals[1]:  30000\n",
      "TESTANDO\n",
      "NEW COLUMNS\n",
      "group_conditions:  [{'cluster_eta': [1.2, 1.8]}, {'cluster_et': [100000, 250000]}]\n",
      "condition_dict:  {'cluster_eta': [1.2, 1.8]}\n",
      "col_name:  cluster_eta\n",
      "intervals:  [1.2, 1.8]\n",
      "intervals[0]:  1.2 intervals[1]:  1.8\n",
      "TESTANDO\n",
      "NEW COLUMNS\n",
      "INFO: Aplicando comparação com módulo para a coluna 'cluster_eta'.\n",
      "condition_dict:  {'cluster_et': [100000, 250000]}\n",
      "col_name:  cluster_et\n",
      "intervals:  [100000, 250000]\n",
      "intervals[0]:  100000 intervals[1]:  250000\n",
      "TESTANDO\n",
      "NEW COLUMNS\n"
     ]
    }
   ],
   "source": [
    "from database.src import dataset_config\n",
    "params=[[{'cluster_eta':[0.6, 0.8]}, {'cluster_et':[20000,30000]}],\n",
    "        [{'cluster_eta':[1.2, 1.8]}, {'cluster_et':[100000, 250000]}]]\n",
    "\n",
    "dataset=dataset_config.split_dataframe(qrings, params)"
   ]
  },
  {
   "cell_type": "code",
   "execution_count": 9,
   "id": "971100a6",
   "metadata": {},
   "outputs": [
    {
     "name": "stdout",
     "output_type": "stream",
     "text": [
      "<class 'list'>\n",
      "3\n",
      "2056\n",
      "59840\n",
      "468114\n"
     ]
    }
   ],
   "source": [
    "print(type(dataset))\n",
    "print(len(dataset))\n",
    "print(len(dataset[0]))\n",
    "print(len(dataset[1]))\n",
    "print(len(dataset[2]))"
   ]
  }
 ],
 "metadata": {
  "kernelspec": {
   "display_name": "Python 3",
   "language": "python",
   "name": "python3"
  },
  "language_info": {
   "codemirror_mode": {
    "name": "ipython",
    "version": 3
   },
   "file_extension": ".py",
   "mimetype": "text/x-python",
   "name": "python",
   "nbconvert_exporter": "python",
   "pygments_lexer": "ipython3",
   "version": "3.13.0"
  }
 },
 "nbformat": 4,
 "nbformat_minor": 5
}
