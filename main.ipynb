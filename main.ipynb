{
 "cells": [
  {
   "cell_type": "code",
   "execution_count": 8,
   "id": "ddbaf10e",
   "metadata": {},
   "outputs": [],
   "source": [
    "import lightgbm as lgb\n",
    "import numpy as np\n",
    "import pandas as pd\n",
    "from database.connection import sql_connection\n",
    "from database.src import dataset_config\n",
    "from modules.calibration_algorithm.gbdt import GBDTTrainning\n",
    "from modules.hyperparameters_opt.bayesian_opt import BayesianOptimization\n",
    "from sklearn.model_selection import train_test_split\n",
    "from sklearn.datasets import fetch_california_housing\n",
    "from sklearn.metrics import mean_squared_error\n",
    "from skopt.space import Real, Integer"
   ]
  },
  {
   "cell_type": "code",
   "execution_count": 9,
   "id": "fd2b4f6c",
   "metadata": {},
   "outputs": [],
   "source": [
    "qrings = sql_connection.set_standard_rings_data()"
   ]
  },
  {
   "cell_type": "code",
   "execution_count": 10,
   "id": "8be52f4f",
   "metadata": {},
   "outputs": [
    {
     "name": "stdout",
     "output_type": "stream",
     "text": [
      "group_conditions:  [{'cluster_eta': [0.6, 0.8]}, {'cluster_et': [20, 30]}]\n",
      "condition_dict:  {'cluster_eta': [0.6, 0.8]}\n",
      "col_name:  cluster_eta\n",
      "intervals:  [0.6, 0.8]\n",
      "intervals[0]:  0.6 intervals[1]:  0.8\n",
      "TESTANDO\n"
     ]
    },
    {
     "ename": "TypeError",
     "evalue": "object of type 'float' has no len()",
     "output_type": "error",
     "traceback": [
      "\u001b[1;31m---------------------------------------------------------------------------\u001b[0m",
      "\u001b[1;31mTypeError\u001b[0m                                 Traceback (most recent call last)",
      "Cell \u001b[1;32mIn[10], line 4\u001b[0m\n\u001b[0;32m      1\u001b[0m \u001b[38;5;28;01mfrom\u001b[39;00m \u001b[38;5;21;01mdatabase\u001b[39;00m\u001b[38;5;21;01m.\u001b[39;00m\u001b[38;5;21;01msrc\u001b[39;00m \u001b[38;5;28;01mimport\u001b[39;00m dataset_config\n\u001b[0;32m      2\u001b[0m params\u001b[38;5;241m=\u001b[39m[[{\u001b[38;5;124m'\u001b[39m\u001b[38;5;124mcluster_eta\u001b[39m\u001b[38;5;124m'\u001b[39m:[\u001b[38;5;241m0.6\u001b[39m, \u001b[38;5;241m0.8\u001b[39m]}, {\u001b[38;5;124m'\u001b[39m\u001b[38;5;124mcluster_et\u001b[39m\u001b[38;5;124m'\u001b[39m:[\u001b[38;5;241m20\u001b[39m,\u001b[38;5;241m30\u001b[39m]}]]\n\u001b[1;32m----> 4\u001b[0m dataset\u001b[38;5;241m=\u001b[39m\u001b[43mdataset_config\u001b[49m\u001b[38;5;241;43m.\u001b[39;49m\u001b[43msplit_dataframe\u001b[49m\u001b[43m(\u001b[49m\u001b[43mqrings\u001b[49m\u001b[43m,\u001b[49m\u001b[43m \u001b[49m\u001b[43mparams\u001b[49m\u001b[43m)\u001b[49m\n",
      "File \u001b[1;32md:\\Doutorado\\calibration\\calibration_refactor\\calibration_refactor_main\\database\\src\\dataset_config.py:123\u001b[0m, in \u001b[0;36msplit_dataframe\u001b[1;34m(data, params)\u001b[0m\n\u001b[0;32m    121\u001b[0m         \u001b[38;5;28;01mfor\u001b[39;00m values \u001b[38;5;129;01min\u001b[39;00m intervals:\n\u001b[0;32m    122\u001b[0m             \u001b[38;5;28mprint\u001b[39m(\u001b[38;5;124m'\u001b[39m\u001b[38;5;124mTESTANDO\u001b[39m\u001b[38;5;124m'\u001b[39m)\n\u001b[1;32m--> 123\u001b[0m             masks\u001b[38;5;241m.\u001b[39mappend(\u001b[43mmake_mask\u001b[49m\u001b[43m(\u001b[49m\u001b[43mdata_remaining\u001b[49m\u001b[43m[\u001b[49m\u001b[43mcol_name\u001b[49m\u001b[43m]\u001b[49m\u001b[43m,\u001b[49m\u001b[43m \u001b[49m\u001b[43mvalues\u001b[49m\u001b[43m)\u001b[49m)\n\u001b[0;32m    124\u001b[0m             \u001b[38;5;28mprint\u001b[39m(\u001b[38;5;124m'\u001b[39m\u001b[38;5;124mmasks: \u001b[39m\u001b[38;5;124m'\u001b[39m, masks)\n\u001b[0;32m    126\u001b[0m \u001b[38;5;66;03m# Usa NumPy para combinar as máscaras (mais rápido que reduce com pandas)\u001b[39;00m\n",
      "File \u001b[1;32md:\\Doutorado\\calibration\\calibration_refactor\\calibration_refactor_main\\database\\src\\dataset_config.py:145\u001b[0m, in \u001b[0;36mmake_mask\u001b[1;34m(column, values)\u001b[0m\n\u001b[0;32m    144\u001b[0m \u001b[38;5;28;01mdef\u001b[39;00m \u001b[38;5;21mmake_mask\u001b[39m(column, values):\n\u001b[1;32m--> 145\u001b[0m     \u001b[38;5;28mprint\u001b[39m(\u001b[38;5;124m'\u001b[39m\u001b[38;5;124mvalues no metodo make_mask\u001b[39m\u001b[38;5;124m'\u001b[39m, values, \u001b[38;5;124m'\u001b[39m\u001b[38;5;124mLen de values: \u001b[39m\u001b[38;5;124m'\u001b[39m, \u001b[38;5;28;43mlen\u001b[39;49m\u001b[43m(\u001b[49m\u001b[43mvalues\u001b[49m\u001b[43m)\u001b[49m)\n\u001b[0;32m    148\u001b[0m \u001b[38;5;250m    \u001b[39m\u001b[38;5;124;03m\"\"\"\u001b[39;00m\n\u001b[0;32m    149\u001b[0m \u001b[38;5;124;03m    Create a boolean mask from a pandas Series based on either discrete values\u001b[39;00m\n\u001b[0;32m    150\u001b[0m \u001b[38;5;124;03m    or an interval [min, max].\u001b[39;00m\n\u001b[1;32m   (...)\u001b[0m\n\u001b[0;32m    167\u001b[0m \u001b[38;5;124;03m        Boolean mask array.\u001b[39;00m\n\u001b[0;32m    168\u001b[0m \u001b[38;5;124;03m    \"\"\"\u001b[39;00m\n\u001b[0;32m    169\u001b[0m     \u001b[38;5;66;03m# Ensure values is iterable\u001b[39;00m\n",
      "\u001b[1;31mTypeError\u001b[0m: object of type 'float' has no len()"
     ]
    }
   ],
   "source": [
    "from database.src import dataset_config\n",
    "params=[[{'cluster_eta':[0.6, 0.8]}, {'cluster_et':[20,30]}]]\n",
    "\n",
    "dataset=dataset_config.split_dataframe(qrings, params)"
   ]
  },
  {
   "cell_type": "code",
   "execution_count": null,
   "id": "971100a6",
   "metadata": {},
   "outputs": [
    {
     "name": "stdout",
     "output_type": "stream",
     "text": [
      "<class 'list'>\n",
      "2\n",
      "0\n",
      "530010\n"
     ]
    }
   ],
   "source": [
    "print(type(dataset))\n",
    "print(len(dataset))\n",
    "print(len(dataset[0]))\n",
    "print(len(dataset[1]))"
   ]
  }
 ],
 "metadata": {
  "kernelspec": {
   "display_name": "Python 3",
   "language": "python",
   "name": "python3"
  },
  "language_info": {
   "codemirror_mode": {
    "name": "ipython",
    "version": 3
   },
   "file_extension": ".py",
   "mimetype": "text/x-python",
   "name": "python",
   "nbconvert_exporter": "python",
   "pygments_lexer": "ipython3",
   "version": "3.13.0"
  }
 },
 "nbformat": 4,
 "nbformat_minor": 5
}
