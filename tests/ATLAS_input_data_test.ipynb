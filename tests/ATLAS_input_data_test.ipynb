{
 "cells": [
  {
   "cell_type": "code",
   "execution_count": null,
   "id": "ddbaf10e",
   "metadata": {},
   "outputs": [],
   "source": [
    "import sys\n",
    "import os\n",
    "sys.path.insert(0, os.path.abspath(os.path.join(os.getcwd(), '..')))\n",
    "\n",
    "from database.connection import sql_connection\n",
    "from database.dataset import dataset_config\n",
    "import lightgbm as lgb\n",
    "from skopt.space import Real, Integer\n",
    "from modules.interface import RunModel, RunOptimization"
   ]
  },
  {
   "cell_type": "code",
   "execution_count": null,
   "id": "fd2b4f6c",
   "metadata": {},
   "outputs": [],
   "source": [
    "stdrings = sql_connection.set_standard_rings_data()\n",
    "params=[[{'cluster_eta':[0.6, 0.8]}, {'cluster_et':[20000,30000]}],\n",
    "        [{'cluster_eta':[1.2, 1.8]}, {'cluster_et':[100000, 250000]}]]\n",
    "\n",
    "dataset=dataset_config.split_dataframe(stdrings, params)\n",
    "data = dataset_config.prepare_and_split_data(input_type='std_rings',stdrings_df=dataset, random_state=42)"
   ]
  },
  {
   "cell_type": "code",
   "execution_count": null,
   "id": "aa621649",
   "metadata": {},
   "outputs": [
    {
     "name": "stdout",
     "output_type": "stream",
     "text": [
      "Optimization finished.\n",
      "Best score (mean_absolute_error): 0.0419\n",
      "Best parameters: {'learning_rate': 0.4671575607628733, 'num_leaves': np.int64(547), 'max_depth': np.int64(566), 'feature_fraction': 0.5167143329975306, 'bagging_fraction': 0.8564095270847129, 'bagging_freq': np.int64(3), 'lambda_l1': 0.8123876211864385, 'lambda_l2': 0.7845021003033774}\n",
      "\n",
      "To train the final model with these parameters, call the '.fit_best_model()' method.\n",
      "Optimization finished.\n",
      "Best score (mean_absolute_error): 0.0585\n",
      "Best parameters: {'learning_rate': 0.1042252838323025, 'num_leaves': np.int64(200), 'max_depth': np.int64(249), 'feature_fraction': 1.0, 'bagging_fraction': 1.0, 'bagging_freq': np.int64(2), 'lambda_l1': 1.0, 'lambda_l2': 0.5}\n",
      "\n",
      "To train the final model with these parameters, call the '.fit_best_model()' method.\n",
      "Optimization finished.\n",
      "Best score (mean_absolute_error): 0.0530\n",
      "Best parameters: {'learning_rate': 0.11880326417260266, 'num_leaves': np.int64(514), 'max_depth': np.int64(601), 'feature_fraction': 0.9760626523388412, 'bagging_fraction': 0.8693364071148962, 'bagging_freq': np.int64(9), 'lambda_l1': 0.9864682083141934, 'lambda_l2': 0.703539713631695}\n",
      "\n",
      "To train the final model with these parameters, call the '.fit_best_model()' method.\n"
     ]
    }
   ],
   "source": [
    "space_lgbm = [\n",
    "    Real(name='learning_rate', low = 0.01 , high = 0.9),\n",
    "    Integer(name='num_leaves', low = 200, high = 700),\n",
    "    Integer(name='max_depth', low = 200, high = 700),\n",
    "    Real(name='feature_fraction', low = 0.5 , high = 1),\n",
    "    Real(name='bagging_fraction', low = 0.7 , high = 1),\n",
    "    Integer(name='bagging_freq', low = 1, high = 10),\n",
    "    Real(name='lambda_l1',low = 0.0, high = 1),\n",
    "    Real(name='lambda_l2',low = 0.5, high = 1)\n",
    "]\n",
    "\n",
    "fixed_params_lgbm = {\n",
    "    'objective': 'mae', \n",
    "    'metric': 'mae', \n",
    "    'num_iterations ': 300,\n",
    "    'random_state': 42, \n",
    "    'n_jobs': -1, \n",
    "    'verbose': -1\n",
    "}\n",
    "\n",
    "calibration_kwargs = {'callbacks':[lgb.early_stopping(stopping_rounds=10, verbose=False)]}\n",
    "optimization_kwargs = {'n_initial_points': 15,\n",
    "                        'n_calls': 30,\n",
    "                        'initial_point_generator': 'lhs',\n",
    "                        'random_state': 42,\n",
    "\n",
    "                       \n",
    "                       }\n",
    "\n",
    "# Simplesmente passe 'model_type=\"lightgbm\"'\n",
    "optimizer_lgbm = RunOptimization()\n",
    "results=optimizer_lgbm.run_multiple_optimizations(opt_class='gp_minimize',\n",
    "    model_class=\"lgbm\",\n",
    "    datasets=data,\n",
    "    space=space_lgbm, \n",
    "    fixed_params=fixed_params_lgbm,\n",
    "    metric='mae',\n",
    "    calibration_kwargs=calibration_kwargs,\n",
    "    optimization_kwargs= optimization_kwargs\n",
    "\n",
    ")"
   ]
  },
  {
   "cell_type": "code",
   "execution_count": null,
   "id": "e0d7a676",
   "metadata": {},
   "outputs": [
    {
     "name": "stdout",
     "output_type": "stream",
     "text": [
      "Training the final model with the best parameters...\n",
      "Final model has been trained and is stored in the '.best_model_' attribute.\n",
      "\n",
      "Melhor MAE para LightGBM: <class 'pandas.core.frame.DataFrame'>\n",
      "\n",
      "Melhor MAE para LightGBM: <class 'pandas.core.series.Series'>\n",
      "\n",
      "Melhor MAE para LightGBM: <class 'numpy.ndarray'>\n",
      "Training the final model with the best parameters...\n",
      "Final model has been trained and is stored in the '.best_model_' attribute.\n",
      "\n",
      "Melhor MAE para LightGBM: <class 'pandas.core.frame.DataFrame'>\n",
      "\n",
      "Melhor MAE para LightGBM: <class 'pandas.core.series.Series'>\n",
      "\n",
      "Melhor MAE para LightGBM: <class 'numpy.ndarray'>\n",
      "Training the final model with the best parameters...\n",
      "Final model has been trained and is stored in the '.best_model_' attribute.\n",
      "\n",
      "Melhor MAE para LightGBM: <class 'pandas.core.frame.DataFrame'>\n",
      "\n",
      "Melhor MAE para LightGBM: <class 'pandas.core.series.Series'>\n",
      "\n",
      "Melhor MAE para LightGBM: <class 'numpy.ndarray'>\n"
     ]
    }
   ],
   "source": [
    "y_test = []\n",
    "y_pred = []\n",
    "\n",
    "for i in range(len(optimizer_lgbm.optimizer)):   \n",
    "    optimizer_lgbm.optimizer[i].get_best_model() \n",
    "    # print(f\"\\nMelhor MAE para LightGBM: {len(optimizer_lgbm.optimizer[i].X_test)}\")\n",
    "    # print(f\"\\nMelhor MAE para LightGBM: {len(optimizer_lgbm.optimizer[i].y_test)}\")\n",
    "    # print(f\"\\nMelhor MAE para LightGBM: {len(optimizer_lgbm.optimizer[i].y_pred)}\")\n",
    "\n",
    "    print(f\"\\nMelhor MAE para LightGBM: {type(optimizer_lgbm.optimizer[i].X_test)}\")\n",
    "    print(f\"\\nMelhor MAE para LightGBM: {type(optimizer_lgbm.optimizer[i].y_test)}\")\n",
    "    print(f\"\\nMelhor MAE para LightGBM: {type(optimizer_lgbm.optimizer[i].y_pred)}\")\n",
    "\n",
    "    y_test.append(optimizer_lgbm.optimizer[i].y_test)\n",
    "    y_pred.append(optimizer_lgbm.optimizer[i].y_pred)\n",
    "\n",
    "# test_size = len(optimizer_lgbm.optimizer[0].X_test)+len(optimizer_lgbm.optimizer[1].X_test)+len(optimizer_lgbm.optimizer[2].X_test)\n",
    "# train_size = len(optimizer_lgbm.optimizer[0].X_train)+len(optimizer_lgbm.optimizer[1].X_train)+len(optimizer_lgbm.optimizer[2].X_train)\n",
    "\n",
    "# print(train_size+test_size)"
   ]
  },
  {
   "cell_type": "code",
   "execution_count": null,
   "id": "5be7e131",
   "metadata": {},
   "outputs": [
    {
     "name": "stdout",
     "output_type": "stream",
     "text": [
      "184     0.979848\n",
      "1724    0.981707\n",
      "251     0.992766\n",
      "1121    1.062317\n",
      "1486    1.253747\n",
      "          ...   \n",
      "1232    0.994171\n",
      "266     1.067189\n",
      "1170    1.024850\n",
      "1473    0.976328\n",
      "1366    1.106981\n",
      "Name: alpha, Length: 412, dtype: float64\n",
      "Index(['StdRings_0', 'StdRings_1', 'StdRings_2', 'StdRings_3', 'StdRings_4',\n",
      "       'StdRings_5', 'StdRings_6', 'StdRings_7', 'StdRings_8', 'StdRings_9',\n",
      "       ...\n",
      "       'cluster_phi', 'cluster_et', 'cluster_e237', 'cluster_e277', 'mc_et',\n",
      "       'delta_eta_calib', 'delta_phi_calib', 'hotCellEta', 'hotCellPhi',\n",
      "       'alpha'],\n",
      "      dtype='object', length=111)\n"
     ]
    }
   ],
   "source": [
    "from plots import plots\n",
    "from sklearn.model_selection import train_test_split\n",
    "X_test_lists=[]\n",
    "X_test = float()\n",
    "for stdrings_cluster_dataframe in dataset:\n",
    "    alpha = stdrings_cluster_dataframe[\"alpha\"]\n",
    "    X_train, X_test, y_train, y_test_ = train_test_split(\n",
    "            stdrings_cluster_dataframe,\n",
    "            alpha,\n",
    "            train_size=0.8,\n",
    "            random_state=42\n",
    "        )\n",
    "    X_test_lists.append(X_test)\n",
    "\n",
    "print(y_test[0])\n",
    "print(X_test_lists[0].columns)\n"
   ]
  },
  {
   "cell_type": "code",
   "execution_count": null,
   "id": "103393c0",
   "metadata": {},
   "outputs": [
    {
     "name": "stdout",
     "output_type": "stream",
     "text": [
      "['StdRings_0', 'StdRings_1', 'StdRings_2', 'StdRings_3', 'StdRings_4', 'StdRings_5', 'StdRings_6', 'StdRings_7', 'StdRings_8', 'StdRings_9', 'StdRings_10', 'StdRings_11', 'StdRings_12', 'StdRings_13', 'StdRings_14', 'StdRings_15', 'StdRings_16', 'StdRings_17', 'StdRings_18', 'StdRings_19', 'StdRings_20', 'StdRings_21', 'StdRings_22', 'StdRings_23', 'StdRings_24', 'StdRings_25', 'StdRings_26', 'StdRings_27', 'StdRings_28', 'StdRings_29', 'StdRings_30', 'StdRings_31', 'StdRings_32', 'StdRings_33', 'StdRings_34', 'StdRings_35', 'StdRings_36', 'StdRings_37', 'StdRings_38', 'StdRings_39', 'StdRings_40', 'StdRings_41', 'StdRings_42', 'StdRings_43', 'StdRings_44', 'StdRings_45', 'StdRings_46', 'StdRings_47', 'StdRings_48', 'StdRings_49', 'StdRings_50', 'StdRings_51', 'StdRings_52', 'StdRings_53', 'StdRings_54', 'StdRings_55', 'StdRings_56', 'StdRings_57', 'StdRings_58', 'StdRings_59', 'StdRings_60', 'StdRings_61', 'StdRings_62', 'StdRings_63', 'StdRings_64', 'StdRings_65', 'StdRings_66', 'StdRings_67', 'StdRings_68', 'StdRings_69', 'StdRings_70', 'StdRings_71', 'StdRings_72', 'StdRings_73', 'StdRings_74', 'StdRings_75', 'StdRings_76', 'StdRings_77', 'StdRings_78', 'StdRings_79', 'StdRings_80', 'StdRings_81', 'StdRings_82', 'StdRings_83', 'StdRings_84', 'StdRings_85', 'StdRings_86', 'StdRings_87', 'StdRings_88', 'StdRings_89', 'StdRings_90', 'StdRings_91', 'StdRings_92', 'StdRings_93', 'StdRings_94', 'StdRings_95', 'StdRings_96', 'StdRings_97', 'StdRings_98', 'StdRings_99', 'cluster_eta', 'cluster_phi', 'cluster_et', 'cluster_e237', 'cluster_e277', 'mc_et', 'delta_eta_calib', 'delta_phi_calib', 'hotCellEta', 'hotCellPhi', 'alpha']\n",
      "3\n",
      "3\n",
      "<class 'list'>\n",
      "<class 'list'>\n",
      "[184, 1724, 251, 1121, 1486, 111, 1450, 188, 614, 220, 1175, 1794, 679, 1368, 544, 746, 570, 1656, 56, 529, 486, 1639, 1423, 1709, 1729, 1110, 1905, 900, 892, 381, 1187, 324, 1058, 1875, 819, 1432, 1702, 914, 1474, 479, 1087, 1876, 1785, 543, 1259, 231, 1701, 1916, 942, 1803, 792, 1009, 534, 599, 70, 809, 29, 1117, 100, 693, 1654, 2000, 196, 978, 211, 368, 1680, 1281, 2042, 414, 1005, 968, 527, 1652, 650, 65, 1578, 654, 701, 1029, 1328, 429, 806, 755, 535, 1604, 1582, 382, 670, 1043, 772, 834, 305, 2008, 1612, 321, 316, 1322, 1385, 2035, 1778, 1882, 1163, 879, 1583, 1476, 715, 741, 478, 1668, 210, 69, 233, 582, 720, 862, 124, 254, 707, 2007, 1568, 128, 99, 832, 617, 752, 538, 374, 1952, 1664, 351, 1384, 1530, 1992, 1269, 1036, 904, 420, 943, 275, 507, 706, 1662, 2018, 1888, 1424, 1305, 1037, 590, 1726, 973, 212, 2006, 555, 519, 1854, 572, 1050, 1342, 963, 1427, 922, 1611, 781, 1720, 1624, 936, 239, 1313, 1477, 993, 1710, 1559, 1111, 115, 1198, 1919, 1116, 1640, 1717, 909, 1599, 1902, 530, 237, 1971, 1509, 1200, 1996, 1331, 366, 120, 1655, 1137, 651, 453, 1165, 297, 135, 354, 585, 999, 342, 610, 1466, 1006, 1645, 109, 1964, 1988, 1811, 281, 1352, 1962, 1837, 63, 1314, 548, 1090, 1404, 812, 1502, 637, 1004, 383, 1173, 483, 893, 705, 1084, 307, 247, 464, 1692, 485, 1387, 2038, 1309, 1498, 121, 985, 23, 350, 588, 427, 1601, 1855, 836, 1998, 49, 173, 849, 289, 1808, 1810, 1144, 422, 1229, 1181, 583, 1703, 306, 2015, 736, 889, 450, 256, 630, 1618, 1063, 1999, 771, 1023, 1743, 1091, 482, 780, 299, 1220, 1671, 1826, 270, 361, 432, 785, 298, 393, 25, 1303, 78, 865, 32, 1453, 1235, 873, 1830, 163, 203, 1375, 952, 817, 966, 1114, 416, 2026, 1766, 2048, 1483, 1414, 218, 1991, 905, 1797, 1067, 743, 59, 607, 1827, 73, 162, 367, 1923, 581, 1078, 1564, 1475, 45, 1965, 818, 471, 1362, 76, 1976, 1457, 694, 1226, 494, 824, 1738, 30, 1125, 1558, 1310, 1234, 1460, 704, 1054, 1596, 1613, 1573, 1619, 344, 44, 1210, 168, 303, 1608, 982, 352, 1985, 1730, 1805, 1616, 940, 997, 613, 974, 1713, 1134, 353, 1105, 1216, 1822, 185, 1270, 1317, 514, 1239, 300, 411, 744, 988, 1646, 1995, 1993, 1406, 1027, 175, 932, 1838, 903, 1657, 123, 1402, 394, 438, 1488, 39, 433, 584, 331, 921, 194, 554, 1908, 1765, 322, 1232, 266, 1170, 1473, 1366]\n"
     ]
    }
   ],
   "source": [
    "print(X_test_lists[0].columns.tolist())\n",
    "\n",
    "print(len(y_test))\n",
    "print(len(y_pred))\n",
    "\n",
    "print(type(y_test))\n",
    "print(type(y_pred))\n",
    "print(list(y_test[0].index))\n"
   ]
  },
  {
   "cell_type": "code",
   "execution_count": null,
   "id": "6f1efc66",
   "metadata": {},
   "outputs": [],
   "source": [
    "import numpy as np\n",
    "merged_dataframe=[]\n",
    "for i in range(len(optimizer_lgbm.optimizer)):\n",
    "    merged_dataframe[i]=plots.merge_dataframes( X_test_lists[i], y_test[i], y_pred[i])\n",
    "\n",
    "bins_et = np.array([5, 10, 20, 30, 40, 50, 70, 100, 150, 200, 250, 900, 3000])*1000\n",
    "bins_eta = np.array([0, 0.6, 0.8, 1.2, 1.37, 1.52, 1.8, 2.0, 2.2, 2.5])"
   ]
  }
 ],
 "metadata": {
  "kernelspec": {
   "display_name": "Python 3",
   "language": "python",
   "name": "python3"
  },
  "language_info": {
   "codemirror_mode": {
    "name": "ipython",
    "version": 3
   },
   "file_extension": ".py",
   "mimetype": "text/x-python",
   "name": "python",
   "nbconvert_exporter": "python",
   "pygments_lexer": "ipython3",
   "version": "3.13.0"
  }
 },
 "nbformat": 4,
 "nbformat_minor": 5
}
