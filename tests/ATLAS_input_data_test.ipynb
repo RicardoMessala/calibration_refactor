{
 "cells": [
  {
   "cell_type": "code",
   "execution_count": 1,
   "id": "ddbaf10e",
   "metadata": {},
   "outputs": [],
   "source": [
    "import sys\n",
    "import os\n",
    "sys.path.insert(0, os.path.abspath(os.path.join(os.getcwd(), '..')))\n",
    "\n",
    "from database.connection import sql_connection\n",
    "from database.dataset import dataset_config\n",
    "import lightgbm as lgb\n",
    "from skopt.space import Real, Integer\n",
    "from modules.interface import RunModel, RunOptimization"
   ]
  },
  {
   "cell_type": "code",
   "execution_count": null,
   "id": "fd2b4f6c",
   "metadata": {},
   "outputs": [],
   "source": [
    "stdrings = sql_connection.set_standard_rings_data()\n",
    "params=[[{'cluster_eta':[0.6, 0.8]}, {'cluster_et':[20000,30000]}],\n",
    "        [{'cluster_eta':[1.2, 1.8]}, {'cluster_et':[100000, 250000]}]]\n",
    "\n",
    "dataset=dataset_config.split_dataframe(stdrings, params)\n",
    "data = dataset_config.prepare_and_split_data(input_type='std_rings',stdrings_df=dataset, random_state=42)"
   ]
  },
  {
   "cell_type": "code",
   "execution_count": 3,
   "id": "aa621649",
   "metadata": {},
   "outputs": [
    {
     "name": "stdout",
     "output_type": "stream",
     "text": [
      "\n",
      "Melhor MAE para LightGBM: 0.0413\n",
      "Melhores parâmetros: [0.19555245135531135, np.int64(386), np.int64(236), 0.8126120532088016, 0.7674551480861327, np.int64(3), 0.587518590565325, 0.904208782810346]\n",
      "\n",
      "Melhor MAE para LightGBM: 0.0573\n",
      "Melhores parâmetros: [0.09617633618994363, np.int64(700), np.int64(200), 1.0, 0.8389357766854251, np.int64(8), 0.20263204779054522, 0.5844562929190261]\n",
      "\n",
      "Melhor MAE para LightGBM: 0.0536\n",
      "Melhores parâmetros: [0.11617807786789455, np.int64(700), np.int64(700), 0.8484743076660737, 0.9717044724735002, np.int64(4), 0.0, 0.9479255363428438]\n"
     ]
    }
   ],
   "source": [
    "space_lgbm = [\n",
    "    Real(name='learning_rate', low = 0.01 , high = 0.9),\n",
    "    Integer(name='num_leaves', low = 200, high = 700),\n",
    "    Integer(name='max_depth', low = 200, high = 700),\n",
    "    Real(name='feature_fraction', low = 0.5 , high = 1),\n",
    "    Real(name='bagging_fraction', low = 0.7 , high = 1),\n",
    "    Integer(name='bagging_freq', low = 1, high = 10),\n",
    "    Real(name='lambda_l1',low = 0.0, high = 1),\n",
    "    Real(name='lambda_l2',low = 0.5, high = 1)\n",
    "]\n",
    "\n",
    "fixed_params_lgbm = {\n",
    "    'objective': 'mae', \n",
    "    'metric': 'mae', \n",
    "    'num_iterations ': 300,\n",
    "    'random_state': 42, \n",
    "    'n_jobs': -1, \n",
    "    'verbose': -1\n",
    "}\n",
    "\n",
    "calibration_kwargs = {'callbacks':[lgb.early_stopping(stopping_rounds=10, verbose=False)]}\n",
    "optimization_kwargs = {'n_initial_points': 15,\n",
    "                        'n_calls': 30,\n",
    "                        'initial_point_generator': 'lhs',\n",
    "                        'random_state': 42,\n",
    "\n",
    "                       \n",
    "                       }\n",
    "\n",
    "# Simplesmente passe 'model_type=\"lightgbm\"'\n",
    "optimizer_lgbm = RunOptimization().run_multiple_optimizations(opt_class='gp_minimize',\n",
    "    model_class=\"lgbm\",\n",
    "    datasets=data,\n",
    "    space=space_lgbm, \n",
    "    fixed_params=fixed_params_lgbm,\n",
    "    metric='mae',\n",
    "    calibration_kwargs=calibration_kwargs,\n",
    "    optimization_kwargs= optimization_kwargs\n",
    "\n",
    ")\n",
    "for i in range(len(optimizer_lgbm)):\n",
    "    print(f\"\\nMelhor MAE para LightGBM: {optimizer_lgbm[i].fun:.4f}\")\n",
    "    print(f\"Melhores parâmetros: {optimizer_lgbm[i].x}\")"
   ]
  },
  {
   "cell_type": "code",
   "execution_count": 4,
   "id": "afb6cfe0",
   "metadata": {},
   "outputs": [
    {
     "name": "stdout",
     "output_type": "stream",
     "text": [
      "\n",
      "Melhor MAE para LightGBM: 0.0366\n",
      "Melhores parâmetros: [0.06931416275807323, np.int64(558), np.int64(346), 0.5, 0.7, np.int64(6), 0.31850054868181865, 0.5229470149247905]\n",
      "\n",
      "Melhor MAE para LightGBM: 0.0583\n",
      "Melhores parâmetros: [0.11056834400367412, np.int64(700), np.int64(539), 0.9176911849740801, 1.0, np.int64(1), 1.0, 0.6143018475142669]\n",
      "\n",
      "Melhor MAE para LightGBM: 0.0543\n",
      "Melhores parâmetros: [0.11880326417260266, np.int64(514), np.int64(601), 0.9760626523388412, 0.8693364071148962, np.int64(9), 0.9864682083141934, 0.703539713631695]\n"
     ]
    }
   ],
   "source": [
    "for i in range(len(optimizer_lgbm)):\n",
    "    print(f\"\\nMelhor MAE para LightGBM: {optimizer_lgbm[i].fun:.4f}\")\n",
    "    print(f\"Melhores parâmetros: {optimizer_lgbm[i].x}\")"
   ]
  },
  {
   "cell_type": "code",
   "execution_count": 4,
   "id": "3b465531",
   "metadata": {},
   "outputs": [
    {
     "name": "stdout",
     "output_type": "stream",
     "text": [
      "\n",
      "Melhor MAE para LightGBM: 0.0392\n",
      "Melhores parâmetros: [0.14646044033236932, np.int64(651), np.int64(601), 0.5, 0.9287265583474883, np.int64(10), 0.6503146552090597, 0.8175954559125067]\n",
      "\n",
      "Melhor MAE para LightGBM: 0.0604\n",
      "Melhores parâmetros: [0.14285770003021567, np.int64(200), np.int64(518), 1.0, 1.0, np.int64(10), 1.0, 0.5]\n",
      "\n",
      "Melhor MAE para LightGBM: 0.0533\n",
      "Melhores parâmetros: [0.16305141655166303, np.int64(271), np.int64(700), 0.8467933382345478, 1.0, np.int64(5), 1.0, 0.8273460004219916]\n"
     ]
    }
   ],
   "source": [
    "for i in range(len(optimizer_lgbm)):\n",
    "    print(f\"\\nMelhor MAE para LightGBM: {optimizer_lgbm[i].fun:.4f}\")\n",
    "    print(f\"Melhores parâmetros: {optimizer_lgbm[i].x}\")"
   ]
  },
  {
   "cell_type": "code",
   "execution_count": 7,
   "id": "6fc8540b",
   "metadata": {},
   "outputs": [
    {
     "name": "stdout",
     "output_type": "stream",
     "text": [
      "\n",
      "Melhor MAE para LightGBM: 0.0390\n",
      "Melhores parâmetros: [0.16434353651776307, np.int64(492), np.int64(355), 0.7323063961503475, 0.7432119058947357, np.int64(2), 0.3777123390527601, 0.5537813910801226]\n",
      "\n",
      "Melhor MAE para LightGBM: 0.0576\n",
      "Melhores parâmetros: [0.06722064301645736, np.int64(694), np.int64(471), 0.8863373935561902, 0.9192749959297709, np.int64(1), 0.2700867561171078, 0.8910844968590501]\n",
      "\n",
      "Melhor MAE para LightGBM: 0.0538\n",
      "Melhores parâmetros: [0.12727607518012532, np.int64(700), np.int64(494), 0.9863069373872342, 1.0, np.int64(5), 1.0, 0.8157374746532764]\n"
     ]
    }
   ],
   "source": [
    "for i in range(len(optimizer_lgbm)):\n",
    "    print(f\"\\nMelhor MAE para LightGBM: {optimizer_lgbm[i].fun:.4f}\")\n",
    "    print(f\"Melhores parâmetros: {optimizer_lgbm[i].x}\")"
   ]
  }
 ],
 "metadata": {
  "kernelspec": {
   "display_name": "Python 3",
   "language": "python",
   "name": "python3"
  },
  "language_info": {
   "codemirror_mode": {
    "name": "ipython",
    "version": 3
   },
   "file_extension": ".py",
   "mimetype": "text/x-python",
   "name": "python",
   "nbconvert_exporter": "python",
   "pygments_lexer": "ipython3",
   "version": "3.13.0"
  }
 },
 "nbformat": 4,
 "nbformat_minor": 5
}
