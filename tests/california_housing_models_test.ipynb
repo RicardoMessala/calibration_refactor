{
 "cells": [
  {
   "cell_type": "code",
   "execution_count": null,
   "id": "422d4772",
   "metadata": {},
   "outputs": [],
   "source": [
    "import sys\n",
    "import os\n",
    "sys.path.insert(0, os.path.abspath(os.path.join(os.getcwd(), '..')))\n",
    "\n",
    "import lightgbm as lgb\n",
    "import pandas as pd\n",
    "from sklearn.model_selection import train_test_split\n",
    "from sklearn.datasets import fetch_california_housing\n",
    "from skopt.space import Real, Integer\n",
    "from modules.interface import RunModel, RunOptimization"
   ]
  },
  {
   "cell_type": "code",
   "execution_count": 2,
   "id": "a1c5e271",
   "metadata": {},
   "outputs": [
    {
     "name": "stdout",
     "output_type": "stream",
     "text": [
      "1. Carregando o banco de dados...\n",
      "Formato dos dados (features): (20640, 8)\n",
      "Amostra dos dados:\n",
      "   MedInc  HouseAge  AveRooms  AveBedrms  Population  AveOccup  Latitude  \\\n",
      "0  8.3252      41.0  6.984127   1.023810       322.0  2.555556     37.88   \n",
      "1  8.3014      21.0  6.238137   0.971880      2401.0  2.109842     37.86   \n",
      "2  7.2574      52.0  8.288136   1.073446       496.0  2.802260     37.85   \n",
      "3  5.6431      52.0  5.817352   1.073059       558.0  2.547945     37.85   \n",
      "4  3.8462      52.0  6.281853   1.081081       565.0  2.181467     37.85   \n",
      "\n",
      "   Longitude  \n",
      "0    -122.23  \n",
      "1    -122.22  \n",
      "2    -122.24  \n",
      "3    -122.25  \n",
      "4    -122.25  \n",
      "\n",
      "2. Dividindo os dados em treino e teste...\n",
      "Tamanho do treino: 16512 amostras\n",
      "Tamanho do teste: 4128 amostras\n",
      "==================================================\n",
      "INICIANDO OTIMIZAÇÃO PARA LIGHTGBM\n",
      "==================================================\n",
      "[INFO] Estrutura de dados 1D detectada. Adicionando uma dimensão para compatibilidade.\n",
      "\n",
      "[INFO] Running optimization 4\n",
      "<class 'list'>\n",
      "<class 'pandas.core.frame.DataFrame'>\n",
      "<class 'pandas.core.frame.DataFrame'>\n",
      "<class 'pandas.core.series.Series'>\n",
      "<class 'pandas.core.series.Series'>\n",
      "\n",
      "Melhor MAE para LightGBM: 0.2924\n",
      "Melhores parâmetros: [np.int64(100), np.int64(15), 0.1303792958093324]\n"
     ]
    }
   ],
   "source": [
    "# --- INÍCIO DO SCRIPT DE TESTE ---\n",
    "\n",
    "# 1. Carregar o Banco de Dados (California Housing)\n",
    "print(\"1. Carregando o banco de dados...\")\n",
    "housing = fetch_california_housing()\n",
    "X = pd.DataFrame(housing.data, columns=housing.feature_names)\n",
    "y = pd.Series(housing.target)\n",
    "\n",
    "print(\"Formato dos dados (features):\", X.shape)\n",
    "print(\"Amostra dos dados:\")\n",
    "print(X.head())\n",
    "\n",
    "# 2. Dividir os dados em Conjunto de Treino e Teste\n",
    "print(\"\\n2. Dividindo os dados em treino e teste...\")\n",
    "X_train, X_test, y_train, y_test = train_test_split(X, y, test_size=0.2, random_state=42)\n",
    "print(f\"Tamanho do treino: {len(X_train)} amostras\")\n",
    "print(f\"Tamanho do teste: {len(X_test)} amostras\")\n",
    "\n",
    "\n",
    "# --- OTIMIZAÇÃO PARA LIGHTGBM ---\n",
    "print(\"=\"*50)\n",
    "print(\"INICIANDO OTIMIZAÇÃO PARA LIGHTGBM\")\n",
    "print(\"=\"*50)\n",
    "\n",
    "space_lgbm = [\n",
    "    Integer(20, 100, name='num_leaves'),\n",
    "    Integer(3, 15, name='max_depth'),\n",
    "    Real(0.01, 0.2, name='learning_rate', prior='log-uniform')\n",
    "]\n",
    "\n",
    "fixed_params_lgbm = {\n",
    "    'objective': 'mae', \n",
    "    'metric': 'mae', \n",
    "    'num_iterations ': 1000,\n",
    "    'random_state': 42, \n",
    "    'n_jobs': -1, \n",
    "    'verbose': -1\n",
    "}\n",
    "\n",
    "calibration_kwargs = {'callbacks':[lgb.early_stopping(stopping_rounds=10, verbose=False)]}\n",
    "optimization_kwargs = {'n_initial_points': 15,\n",
    "                        'n_calls': 30,\n",
    "                        'initial_point_generator': 'random',\n",
    "                        'random_state': 42,\n",
    "\n",
    "                       \n",
    "                       }\n",
    "\n",
    "# Simplesmente passe 'model_type=\"lightgbm\"'\n",
    "optimizer_lgbm = RunOptimization().run_multiple_optimizations(opt_class='gp_minimize',\n",
    "    model_class=\"lgbm\",\n",
    "    datasets=[X_train, X_test, y_train, y_test],\n",
    "    space=space_lgbm, \n",
    "    fixed_params=fixed_params_lgbm,\n",
    "    metric='mae',\n",
    "    calibration_kwargs=calibration_kwargs,\n",
    "    optimization_kwargs= optimization_kwargs\n",
    "\n",
    ")\n",
    "\n",
    "print(f\"\\nMelhor MAE para LightGBM: {optimizer_lgbm[0].fun:.4f}\")\n",
    "print(f\"Melhores parâmetros: {optimizer_lgbm[0].x}\")"
   ]
  },
  {
   "cell_type": "code",
   "execution_count": 3,
   "id": "7dd0db08",
   "metadata": {},
   "outputs": [
    {
     "name": "stdout",
     "output_type": "stream",
     "text": [
      "\n",
      "Melhor MAE para LightGBM: 0.2924\n",
      "Melhores parâmetros: [np.int64(100), np.int64(15), 0.1303792958093324]\n"
     ]
    }
   ],
   "source": [
    "print(f\"\\nMelhor MAE para LightGBM: {optimizer_lgbm[0].fun:.4f}\")\n",
    "print(f\"Melhores parâmetros: {optimizer_lgbm[0].x}\")"
   ]
  },
  {
   "cell_type": "code",
   "execution_count": null,
   "id": "ad7fbe9c",
   "metadata": {},
   "outputs": [],
   "source": [
    "# # Agora, para otimizar outro modelo, só mudamos o tipo e os parâmetros!\n",
    "# optimizer_xgb = BayesianOptimization(\n",
    "#     model_type=\"xgboost\",\n",
    "#     X_train=X_train, y_train=y_train, X_test=X_test, y_test=y_test,\n",
    "#     space=space_xgb, fixed_params=fixed_params_xgb\n",
    "# )\n",
    "# resultado_xgb = optimizer_xgb.run(n_calls=15, random_state=42)\n",
    "# print(f\"\\nMelhor MAE para XGBoost: {resultado_xgb.fun:.4f}\")\n",
    "# print(f\"Melhores parâmetros: {resultado_xgb.x}\")"
   ]
  }
 ],
 "metadata": {
  "kernelspec": {
   "display_name": "Python 3",
   "language": "python",
   "name": "python3"
  },
  "language_info": {
   "codemirror_mode": {
    "name": "ipython",
    "version": 3
   },
   "file_extension": ".py",
   "mimetype": "text/x-python",
   "name": "python",
   "nbconvert_exporter": "python",
   "pygments_lexer": "ipython3",
   "version": "3.13.0"
  }
 },
 "nbformat": 4,
 "nbformat_minor": 5
}
