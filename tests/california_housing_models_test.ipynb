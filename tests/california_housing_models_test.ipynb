{
 "cells": [
  {
   "cell_type": "code",
   "execution_count": 1,
   "id": "422d4772",
   "metadata": {},
   "outputs": [],
   "source": [
    "import sys\n",
    "import os\n",
    "sys.path.insert(0, os.path.abspath(os.path.join(os.getcwd(), '..')))\n",
    "\n",
    "import lightgbm as lgb\n",
    "import pandas as pd\n",
    "from sklearn.model_selection import train_test_split\n",
    "from sklearn.datasets import fetch_california_housing\n",
    "from skopt.space import Real, Integer\n",
    "from modules.interface import RunModel, RunOptimization"
   ]
  },
  {
   "cell_type": "code",
   "execution_count": 2,
   "id": "a1c5e271",
   "metadata": {},
   "outputs": [
    {
     "name": "stdout",
     "output_type": "stream",
     "text": [
      "1. Carregando o banco de dados...\n",
      "==================================================\n",
      "INICIANDO OTIMIZAÇÃO PARA LIGHTGBM\n",
      "==================================================\n",
      "Optimization finished.\n",
      "Best score (mean_absolute_error): 0.2818\n",
      "Best parameters: {'learning_rate': 0.08032145496250154, 'num_leaves': np.int64(594), 'max_depth': np.int64(667), 'feature_fraction': 0.7414033489099505, 'bagging_fraction': 1.0, 'bagging_freq': np.int64(1), 'lambda_l1': 0.9148060866796668, 'lambda_l2': 0.5}\n",
      "\n",
      "To train the final model with these parameters, call the '.fit_best_model()' method.\n",
      "\n",
      "Melhor MAE para LightGBM: 0.2818\n",
      "Melhores parâmetros: [0.08032145496250154, np.int64(594), np.int64(667), 0.7414033489099505, 1.0, np.int64(1), 0.9148060866796668, 0.5]\n"
     ]
    }
   ],
   "source": [
    "# --- INÍCIO DO SCRIPT DE TESTE ---\n",
    "\n",
    "# 1. Carregar o Banco de Dados (California Housing)\n",
    "print(\"1. Carregando o banco de dados...\")\n",
    "housing = fetch_california_housing()\n",
    "X = pd.DataFrame(housing.data, columns=housing.feature_names)\n",
    "y = pd.Series(housing.target)\n",
    "\n",
    "# 2. Dividir os dados em Conjunto de Treino e Teste\n",
    "X_train, X_test, y_train, y_test = train_test_split(X, y, test_size=0.2, random_state=42)\n",
    "\n",
    "# --- OTIMIZAÇÃO PARA LIGHTGBM ---\n",
    "print(\"=\"*50)\n",
    "print(\"INICIANDO OTIMIZAÇÃO PARA LIGHTGBM\")\n",
    "print(\"=\"*50)\n",
    "\n",
    "space_lgbm = [\n",
    "    Real(name='learning_rate', low = 0.01 , high = 0.9),\n",
    "    Integer(name='num_leaves', low = 200, high = 700),\n",
    "    Integer(name='max_depth', low = 200, high = 700),\n",
    "    Real(name='feature_fraction', low = 0.5 , high = 1),\n",
    "    Real(name='bagging_fraction', low = 0.7 , high = 1),\n",
    "    Integer(name='bagging_freq', low = 1, high = 10),\n",
    "    Real(name='lambda_l1',low = 0.0, high = 1),\n",
    "    Real(name='lambda_l2',low = 0.5, high = 1)\n",
    "]\n",
    "\n",
    "fixed_params_lgbm = {\n",
    "    'objective': 'mae', \n",
    "    'metric': 'mae', \n",
    "    'num_iterations ': 300,\n",
    "    'random_state': 42, \n",
    "    'n_jobs': -1, \n",
    "    'verbose': -1\n",
    "}\n",
    "\n",
    "calibration_kwargs = {'callbacks':[lgb.early_stopping(stopping_rounds=10, verbose=False)]}\n",
    "optimization_kwargs = {'n_initial_points': 15,\n",
    "                        'n_calls': 30,\n",
    "                        'initial_point_generator': 'lhs',\n",
    "                        'random_state': 42,\n",
    "\n",
    "                       \n",
    "                       }\n",
    "\n",
    "# Simplesmente passe 'model_type=\"lightgbm\"'\n",
    "optimizer_lgbm = RunOptimization()\n",
    "results=optimizer_lgbm.run_multiple_optimizations(opt_class='gp_minimize',\n",
    "    model_class=\"lgbm\",\n",
    "    datasets=[X_train, X_test, y_train, y_test],\n",
    "    space=space_lgbm, \n",
    "    fixed_params=fixed_params_lgbm,\n",
    "    metric='mae',\n",
    "    calibration_kwargs=calibration_kwargs,\n",
    "    optimization_kwargs= optimization_kwargs\n",
    "\n",
    ")\n",
    "\n",
    "print(f\"\\nMelhor MAE para LightGBM: {results[0].fun:.4f}\")\n",
    "print(f\"Melhores parâmetros: {results[0].x}\")"
   ]
  },
  {
   "cell_type": "code",
   "execution_count": 3,
   "id": "e6deee96",
   "metadata": {},
   "outputs": [
    {
     "name": "stdout",
     "output_type": "stream",
     "text": [
      "20046    0.47700\n",
      "3024     0.45800\n",
      "15663    5.00001\n",
      "20484    2.18600\n",
      "9814     2.78000\n",
      "          ...   \n",
      "15362    2.63300\n",
      "16623    2.66800\n",
      "18086    5.00001\n",
      "2144     0.72300\n",
      "3665     1.51500\n",
      "Length: 4128, dtype: float64\n"
     ]
    }
   ],
   "source": [
    "print(optimizer_lgbm.optimizer[0].y_test)\n"
   ]
  },
  {
   "cell_type": "code",
   "execution_count": 4,
   "id": "ad7fbe9c",
   "metadata": {},
   "outputs": [],
   "source": [
    "# # Agora, para otimizar outro modelo, só mudamos o tipo e os parâmetros!\n",
    "# optimizer_xgb = BayesianOptimization(\n",
    "#     model_type=\"xgboost\",\n",
    "#     X_train=X_train, y_train=y_train, X_test=X_test, y_test=y_test,\n",
    "#     space=space_xgb, fixed_params=fixed_params_xgb\n",
    "# )\n",
    "# resultado_xgb = optimizer_xgb.run(n_calls=15, random_state=42)\n",
    "# print(f\"\\nMelhor MAE para XGBoost: {resultado_xgb.fun:.4f}\")\n",
    "# print(f\"Melhores parâmetros: {resultado_xgb.x}\")"
   ]
  }
 ],
 "metadata": {
  "kernelspec": {
   "display_name": "Python 3",
   "language": "python",
   "name": "python3"
  },
  "language_info": {
   "codemirror_mode": {
    "name": "ipython",
    "version": 3
   },
   "file_extension": ".py",
   "mimetype": "text/x-python",
   "name": "python",
   "nbconvert_exporter": "python",
   "pygments_lexer": "ipython3",
   "version": "3.13.0"
  }
 },
 "nbformat": 4,
 "nbformat_minor": 5
}
